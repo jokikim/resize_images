{
 "cells": [
  {
   "cell_type": "markdown",
   "id": "db226e14-efb5-4e7d-9e42-9f426b17df79",
   "metadata": {},
   "source": [
    "# Resize Images"
   ]
  },
  {
   "cell_type": "code",
   "execution_count": 17,
   "id": "aaf49ba7-a755-4cec-9ade-b789867a2a74",
   "metadata": {},
   "outputs": [],
   "source": [
    "import os,sys,time\n",
    "from tqdm import tqdm\n",
    "from PIL import Image"
   ]
  },
  {
   "cell_type": "markdown",
   "id": "8a86210b-4128-49c4-afe6-ed830da1b6e4",
   "metadata": {},
   "source": [
    "## Set variables"
   ]
  },
  {
   "cell_type": "code",
   "execution_count": 2,
   "id": "0d8e6c37-3383-4850-83c0-ab22ed246302",
   "metadata": {},
   "outputs": [],
   "source": [
    "def set_variables():\n",
    "    # Set KB file size threshold.\n",
    "    kb_threshold = 500\n",
    "\n",
    "    # Resize dimensions.\n",
    "    resize_dims = (1020,1360)\n",
    "\n",
    "    # Set input and output folders.\n",
    "    input_folder = os.path.join(os.getcwd(),'images','input')\n",
    "    output_folder = os.path.join(os.getcwd(),'images','output')\n",
    "\n",
    "    # List of all image directories.\n",
    "    img_folders = [x[0] for x in os.walk(input_folder)][1:]\n",
    "    \n",
    "    # Print.\n",
    "    print(f'   kb_threshold: {kb_threshold}')\n",
    "    print(f'   resize_dims: {resize_dims}')\n",
    "    print(f'   Current Directory: {os.getcwd()}')\n",
    "    print(f'   Input Folder: {input_folder}')\n",
    "    print(f'   Output Folder: {output_folder}')\n",
    "    \n",
    "    return kb_threshold,resize_dims,input_folder,output_folder,img_folders"
   ]
  },
  {
   "cell_type": "markdown",
   "id": "0861ccb8-d2a8-49d8-aeda-68d478d1e8e9",
   "metadata": {},
   "source": [
    "## Resize Images"
   ]
  },
  {
   "cell_type": "code",
   "execution_count": 3,
   "id": "1b5b3b28-df7f-41c3-b8b0-6b954877e4fe",
   "metadata": {},
   "outputs": [],
   "source": [
    "def resize_all_images(img_folders, resize_dims):\n",
    "    '''\n",
    "    Given the list of image folders (img_folders), loop over each folder and call the\n",
    "    resize_images to resize each image file within the folder.\n",
    "    \n",
    "    Params:\n",
    "    =======\n",
    "    img_folders : list\n",
    "        List of all full path of image folders.\n",
    "    '''\n",
    "    \n",
    "    def resize_images(dir_path, resize_dims):\n",
    "        '''\n",
    "        Loop over a single image folder and resize all image files within the folder.\n",
    "        \n",
    "        Params:\n",
    "        =======\n",
    "        dir_path : string\n",
    "            Full Path (string) to the image directory. All files within this directory must contain the images.\n",
    "\n",
    "        '''\n",
    "        from PIL import Image\n",
    "\n",
    "        # Gather all image files in the dir_path.\n",
    "        imgs_list = [x[2] for x in os.walk(dir_path)][0]\n",
    "\n",
    "        # Create full paths to the image files.\n",
    "        imgs_path = [os.path.join(dir_path,x) for x in imgs_list]\n",
    "\n",
    "        # Loop over each image file, and resize.\n",
    "        new_imgs_list = []\n",
    "        failed_imgs_list = []\n",
    "        for img in imgs_path:\n",
    "\n",
    "            # Open image.\n",
    "            image = Image.open(img)\n",
    "\n",
    "            # Extract dimensions.\n",
    "            width, height = image.size\n",
    "\n",
    "            # Check dimension ratio.\n",
    "            check_ratio = round(width/height,2)\n",
    "\n",
    "            # Resize, if ratio is correct.\n",
    "            if 0.66 <= check_ratio <= 0.76:\n",
    "                # Resize image.\n",
    "                # print(f'Resizing: {img}')\n",
    "                image = image.resize(resize_dims)\n",
    "                new_imgs_list.append([img,image]) # Append image path and actual image.\n",
    "            else:\n",
    "                print('   Original Image much beyond the 3:4 ratio:')\n",
    "                print(f'     Ratio: {check_ratio}')\n",
    "                print(f'     Path: {img_path}')\n",
    "                failed_imgs_list.append([img,image])  # Append image path and actual image.\n",
    "\n",
    "        return ((new_imgs_list,failed_imgs_list))\n",
    "    \n",
    "    # Loop over all image folders and run the function.\n",
    "    start_time = time.time()\n",
    "    all_new_imgs = []\n",
    "    all_failed_imgs = []\n",
    "    tqdm_tim_folders = tqdm(img_folders)\n",
    "    for img_dir in tqdm_tim_folders:\n",
    "        tqdm_tim_folders.set_description(f\"Processing Image Folder\")\n",
    "        new_images_list,failed_imgs_list = resize_images(img_dir,resize_dims)\n",
    "        all_new_imgs.extend(new_images_list)\n",
    "        all_failed_imgs.extend(failed_imgs_list)\n",
    "    end_time = time.time()\n",
    "    \n",
    "    # Print.\n",
    "    print(f'   Total Run Time: {round((end_time-start_time)/60,2)} mins')\n",
    "    print(f'   Successful Image Resizes: {len(all_new_imgs)}')\n",
    "    print(f'   Failed Image Resizes: {len(all_failed_imgs)}')\n",
    "    \n",
    "    return ((all_new_imgs,all_failed_imgs))\n"
   ]
  },
  {
   "cell_type": "markdown",
   "id": "21815237-0dd9-48ae-a7fd-8fd62f95417e",
   "metadata": {},
   "source": [
    "## Export"
   ]
  },
  {
   "cell_type": "code",
   "execution_count": 4,
   "id": "7bac1e2a-8f06-4cf4-8a8a-972fd3524900",
   "metadata": {},
   "outputs": [],
   "source": [
    "def save_all_images(all_new_imgs):\n",
    "    '''\n",
    "    Params:\n",
    "    ======\n",
    "    all_new_imgs : List\n",
    "        List of list with first element as the full image file path, and the second element\n",
    "        with the Image object.\n",
    "    '''\n",
    "    for img_path,img_image in all_new_imgs:\n",
    "\n",
    "        # Get the subdirectories names after the input_folder path.\n",
    "        subdir_names = img_path.replace(input_folder,'').split('/')\n",
    "        subdir_names = [x for x in subdir_names if x != '']\n",
    "\n",
    "        # Get the image folder path that holds the actual image files.\n",
    "        # Create this folder if not exists.\n",
    "        subdir_names_parent = os.path.join(output_folder,*subdir_names[:-1])\n",
    "        if not os.path.exists(subdir_names_parent):\n",
    "            os.makedirs(subdir_names_parent)\n",
    "\n",
    "        # Create the full output path.\n",
    "        img_output_path = os.path.join(output_folder,*subdir_names)\n",
    "\n",
    "        # Export the image.\n",
    "        img_image.save(img_output_path)\n",
    "\n",
    "        # Check the file size.\n",
    "        img_file_size = round(os.path.getsize(img_output_path)/1000,2)\n",
    "        if img_file_size > kb_threshold:\n",
    "            print(f'   File size Over {kb_threshold} KB threshold: {img_file_size} KB')\n",
    "    \n",
    "    return print('   Images successfully saved.')"
   ]
  },
  {
   "cell_type": "markdown",
   "id": "c8b5df0b-ca28-44fb-a45c-67a7833f9d93",
   "metadata": {},
   "source": [
    "## Execute main file"
   ]
  },
  {
   "cell_type": "code",
   "execution_count": 5,
   "id": "67f22539-1bd7-49f3-8b70-55f45e91d0b4",
   "metadata": {},
   "outputs": [
    {
     "name": "stdout",
     "output_type": "stream",
     "text": [
      "Retrieving Variables....\n",
      "   kb_threshold: 500\n",
      "   resize_dims: (1020, 1360)\n",
      "   Current Directory: /Users/jonathankim/env_projects/Nayeni/image_compression\n",
      "   Input Folder: /Users/jonathankim/env_projects/Nayeni/image_compression/images/input\n",
      "   Output Folder: /Users/jonathankim/env_projects/Nayeni/image_compression/images/output\n",
      "\n",
      "Resizing Images....\n"
     ]
    },
    {
     "name": "stderr",
     "output_type": "stream",
     "text": [
      "Processing Image Folder: 100%|██████████████████| 20/20 [01:41<00:00,  5.10s/it]\n"
     ]
    },
    {
     "name": "stdout",
     "output_type": "stream",
     "text": [
      "   Total Run Time: 1.7 mins\n",
      "   Successful Image Resizes: 134\n",
      "   Failed Image Resizes: 0\n",
      "\n",
      "Exporting Images....\n",
      "   Images successfully saved.\n"
     ]
    }
   ],
   "source": [
    "if __name__ == \"__main__\":\n",
    "    \n",
    "    print('Retrieving Variables....')\n",
    "    # Return Variables\n",
    "    kb_threshold,resize_dims,input_folder,output_folder,img_folders = set_variables()\n",
    "\n",
    "    # Resize images.\n",
    "    print('\\nResizing Images....')\n",
    "    all_new_imgs,all_failed_imgs = resize_all_images(img_folders=img_folders,\n",
    "                                                     resize_dims=resize_dims)\n",
    "    \n",
    "    # Export images.\n",
    "    print('\\nExporting Images....')\n",
    "    save_all_images(all_new_imgs=all_new_imgs)"
   ]
  },
  {
   "cell_type": "code",
   "execution_count": null,
   "id": "d66b05c9-d0dd-491d-8746-9f044d2b6b30",
   "metadata": {},
   "outputs": [],
   "source": []
  }
 ],
 "metadata": {
  "kernelspec": {
   "display_name": "nayeni_image_compression",
   "language": "python",
   "name": "env"
  },
  "language_info": {
   "codemirror_mode": {
    "name": "ipython",
    "version": 3
   },
   "file_extension": ".py",
   "mimetype": "text/x-python",
   "name": "python",
   "nbconvert_exporter": "python",
   "pygments_lexer": "ipython3",
   "version": "3.9.12"
  }
 },
 "nbformat": 4,
 "nbformat_minor": 5
}
